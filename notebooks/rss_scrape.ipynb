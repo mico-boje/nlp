{
 "cells": [
  {
   "cell_type": "code",
   "execution_count": 1,
   "metadata": {},
   "outputs": [
    {
     "name": "stdout",
     "output_type": "stream",
     "text": [
      "Note: you may need to restart the kernel to use updated packages.\n"
     ]
    }
   ],
   "source": [
    "%pip install feedparser > /dev/null"
   ]
  },
  {
   "cell_type": "code",
   "execution_count": 8,
   "metadata": {},
   "outputs": [
    {
     "name": "stdout",
     "output_type": "stream",
     "text": [
      "RAMSTEIN AIR BASE, Germany — Nearly three dozen American-made M1 Abrams tanks that Ukrainian troops will use for training are slated to arrive in Germany by the end of May, a U. S. defense official said Friday. U. S. Defense Secretary Lloyd Austin is expected to formally announce the delivery here at today’s 11th meeting of the Ukraine Defense Contact Group, an international coalition of around 50 countries supporting Ukraine in its 14-month war with Russia. Western officials hope the fleet of advanced battle tanks will be pivotal in efforts to reclaim Russian-occupied territory in eastern and southern Ukraine, though the contribution is unlikely to arrive early enough to make a difference in the country’s anticipated spring counteroffensive. Thirty-one Abrams training tanks will arrive at U. S. Army Garrison Bavaria Grafenwoehr in eastern Germany in the next few weeks, the defense official said. Meanwhile, a separate shipment of 31 M1A1s, refurbished to meet Ukrainian specifications, are expected to reach Ukrainian battlefields by the end of the year. Once the training assets arrive, around 250 Ukrainian troops will take part in a 10-week course to learn how to operate and repair the tanks, the official told reporters. That’s slated to begin by mid-June. After the 10 weeks end, Ukrainian forces could opt to tack on additional training in advanced combat maneuvers. Instruction will come from American soldiers with the 7th Army Training Command, the official said. It’s unclear whether tank training will require the Army to bring additional instructors to Grafenwoehr. The Biden administration initially argued the vehicles would be too difficult for Ukrainian troops to maintain in good condition but reversed course in January. Kyiv had repeatedly pushed for the Abrams, which features a 120mm main gun, advanced targeting and armor-piercing abilities while running at a top speed of around 42 miles per hour. The decision has spurred a growing list of nations to pony up similar systems. Most recently, the Netherlands and Denmark announced Thursday they would jointly donate 14 restored Leopard 2 tanks in early 2024. Ukrainian Defense Minister Oleksii Reznikov said on Twitter during the meeting he had signed a letter of intent to create a maintenance center in Poland to service Leopard 2 tanks. Coalition members have delivered more than 230 tanks and more than 1,550 armored vehicles so far, the defense official said. Speaking to reporters ahead of the talks Friday morning, NATO chief Jens Stoltenberg hailed the arrival of state-of-the-art tanks but cautioned that the coalition must reliably provide the ammunition, fuel and other support Ukraine needs to use that heavy equipment well into the future. The contact group, which periodically gathers in person and virtually to hash out new avenues of support for Ukraine, has collectively provided more than $55 billion in military aid to the embattled country — growing tenfold since the first meeting one year ago, Austin said. “Just in the past few months, we’ve provided the equipment and training to support an additional nine armored brigades for Ukraine,” he said in his opening remarks ahead of the day’s marathon series of meetings. “That has already strengthened Ukraine’s position on the battlefield. ”More than 11,000 Ukrainian soldiers are currently in infantry training or have finished courses hosted by U. S. forces in Germany. Around 2,250 soldiers, or four motorized infantry battalions, are now participating in combined arms lessons at the Grafenwoehr and Hohenfels training areas, said Col. Martin O’Donnell, a spokesperson for the U. S. Army in Europe and Africa. Another 250 or so are currently learning to use other U. S. -supplied weapons as well as leadership training, he said. An additional motorized infantry battalion has arrived in Germany and will begin combined arms training soon, O’Donnell said. That includes instruction on “basic soldier tasks like marksmanship, along with medical training, squad, platoon and company training, and a battalion force-on-force exercise,” he said. Around 8,800 Ukrainians — or seven battalions — have completed training and returned home. Shoring up Ukraine’s air defenses to prevent enemy missile strikes, pouring in millions of rounds of ammunition and bolstering logistics and maintenance support remained the contact group’s top priorities at this week’s meeting. U. S. -made Patriot surface-to-air defensive missiles have arrived in Ukraine, Reznikov announced Wednesday. Patriot weapons can hit aircraft, cruise missiles and short-range ballistic missiles like those Russia has used to destroy residential areas and critical infrastructure. “Our top priority is to quickly build a multi-level air defense/anti-missile defense system,” he added on Twitter Thursday. “Patriots, IRIS-T, NASAMS, and MiG-29 are the most recent, but not the final, steps towards this goal. ”He is now trying to leverage the win to secure promises that Ukraine’s partners will relent on other currently out-of-reach equipment — namely, fighter jets. Ahead of Friday’s meeting, Reznikov acknowledged foreign officials have gradually come around to providing Western weapons previously deemed a poor fit for the small Eastern European nation. “We need NATO-style fighter jets,” he tweeted Thursday, citing the need to counter “barbaric tactics” used by Russian-backed forces. Our top priority is to quickly build a multi-level air defense/anti-missile defense system. Patriots, IRIS-T, NASAMS, and MiG-29 are the most recent, but not the final, steps towards this goal. Given the kremlin's barbaric tactics, we need NATO-style fighter jets. We've heard…— Oleksii Reznikov (@oleksiireznikov) April 20, 2023 Though Poland and Slovakia have donated Soviet-style MiG-29 fighter jets, and the United Kingdom and Poland have offered to train Ukrainian pilots, the idea of supplying F-16 Fighting Falcon jets or A-10C “Warthog” attack planes remains a bridge too far for the Biden administration. Stoltenberg told reporters discussions on whether and how to offer different airframes are still underway. Earlier this year, two Ukrainian pilots visited a military base in Tucson — likely with the Arizona Air National Guard’s 162nd Wing, which flies F-16s — to help the U. S. determine how long it might take to teach them to fly advanced Western aircraft, NBC News first reported in March. The Pentagon has not released any further information on their time in the simulators. But Reznikov isn’t giving up hope. “We’ve heard ‘no, it’s impossible’ a lot,” he wrote. “But I have seen firsthand how the impossible can become possible. ”Ukraine’s Defense Ministry claimed Friday its troops have killed more than 185,000 enemy forces since the Russian invasion began Feb. 24, 2022. U. S. and European defense officials have pegged that number around 200,000 troops, plus another 100,000 or so Ukrainian forces. \n"
     ]
    }
   ],
   "source": [
    "import re\n",
    "import feedparser\n",
    "import html\n",
    "\n",
    "url = 'https://www.defensenews.com/arc/outboundfeeds/rss/category/land/'\n",
    "\n",
    "# Parse the RSS feed\n",
    "feed = feedparser.parse(url)\n",
    "\n",
    "# Extract the content from <content:encoded> tags and clean it from HTML elements\n",
    "for entry in feed.entries:\n",
    "    content = entry.content[0].value\n",
    "    cleaned_content = html.unescape(content)\n",
    "    cleaned_content = re.sub(r'\\s*\\.\\s*', '. ', cleaned_content)\n",
    "    cleaned_content = re.sub(r'<.*?>', '', cleaned_content)\n",
    "    cleaned_content = cleaned_content.replace('&nbsp;', ' ')\n",
    "    print(cleaned_content)\n",
    "    break\n"
   ]
  },
  {
   "cell_type": "code",
   "execution_count": null,
   "metadata": {},
   "outputs": [],
   "source": []
  }
 ],
 "metadata": {
  "kernelspec": {
   "display_name": "summarisation",
   "language": "python",
   "name": "python3"
  },
  "language_info": {
   "codemirror_mode": {
    "name": "ipython",
    "version": 3
   },
   "file_extension": ".py",
   "mimetype": "text/x-python",
   "name": "python",
   "nbconvert_exporter": "python",
   "pygments_lexer": "ipython3",
   "version": "3.10.10"
  },
  "orig_nbformat": 4
 },
 "nbformat": 4,
 "nbformat_minor": 2
}
