{
 "cells": [
  {
   "cell_type": "code",
   "execution_count": 1,
   "metadata": {},
   "outputs": [
    {
     "name": "stdout",
     "output_type": "stream",
     "text": [
      "Requirement already satisfied: accelerate in /home/miboj/miniconda3/envs/summarisation/lib/python3.10/site-packages (0.18.0)\n",
      "Requirement already satisfied: bitsandbytes in /home/miboj/miniconda3/envs/summarisation/lib/python3.10/site-packages (0.38.1)\n",
      "Requirement already satisfied: safetensors in /home/miboj/miniconda3/envs/summarisation/lib/python3.10/site-packages (0.3.1)\n",
      "Requirement already satisfied: psutil in /home/miboj/miniconda3/envs/summarisation/lib/python3.10/site-packages (from accelerate) (5.9.4)\n",
      "Requirement already satisfied: numpy>=1.17 in /home/miboj/miniconda3/envs/summarisation/lib/python3.10/site-packages (from accelerate) (1.24.2)\n",
      "Requirement already satisfied: torch>=1.4.0 in /home/miboj/miniconda3/envs/summarisation/lib/python3.10/site-packages (from accelerate) (2.0.0)\n",
      "Requirement already satisfied: packaging>=20.0 in /home/miboj/miniconda3/envs/summarisation/lib/python3.10/site-packages (from accelerate) (23.1)\n",
      "Requirement already satisfied: pyyaml in /home/miboj/miniconda3/envs/summarisation/lib/python3.10/site-packages (from accelerate) (6.0)\n",
      "Requirement already satisfied: triton==2.0.0 in /home/miboj/miniconda3/envs/summarisation/lib/python3.10/site-packages (from torch>=1.4.0->accelerate) (2.0.0)\n",
      "Requirement already satisfied: sympy in /home/miboj/miniconda3/envs/summarisation/lib/python3.10/site-packages (from torch>=1.4.0->accelerate) (1.11.1)\n",
      "Requirement already satisfied: nvidia-cuda-cupti-cu11==11.7.101 in /home/miboj/miniconda3/envs/summarisation/lib/python3.10/site-packages (from torch>=1.4.0->accelerate) (11.7.101)\n",
      "Requirement already satisfied: nvidia-nvtx-cu11==11.7.91 in /home/miboj/miniconda3/envs/summarisation/lib/python3.10/site-packages (from torch>=1.4.0->accelerate) (11.7.91)\n",
      "Requirement already satisfied: nvidia-cuda-runtime-cu11==11.7.99 in /home/miboj/miniconda3/envs/summarisation/lib/python3.10/site-packages (from torch>=1.4.0->accelerate) (11.7.99)\n",
      "Requirement already satisfied: nvidia-cusolver-cu11==11.4.0.1 in /home/miboj/miniconda3/envs/summarisation/lib/python3.10/site-packages (from torch>=1.4.0->accelerate) (11.4.0.1)\n",
      "Requirement already satisfied: nvidia-cudnn-cu11==8.5.0.96 in /home/miboj/miniconda3/envs/summarisation/lib/python3.10/site-packages (from torch>=1.4.0->accelerate) (8.5.0.96)\n",
      "Requirement already satisfied: nvidia-nccl-cu11==2.14.3 in /home/miboj/miniconda3/envs/summarisation/lib/python3.10/site-packages (from torch>=1.4.0->accelerate) (2.14.3)\n",
      "Requirement already satisfied: jinja2 in /home/miboj/miniconda3/envs/summarisation/lib/python3.10/site-packages (from torch>=1.4.0->accelerate) (3.1.2)\n",
      "Requirement already satisfied: networkx in /home/miboj/miniconda3/envs/summarisation/lib/python3.10/site-packages (from torch>=1.4.0->accelerate) (3.1)\n",
      "Requirement already satisfied: filelock in /home/miboj/miniconda3/envs/summarisation/lib/python3.10/site-packages (from torch>=1.4.0->accelerate) (3.11.0)\n",
      "Requirement already satisfied: nvidia-curand-cu11==10.2.10.91 in /home/miboj/miniconda3/envs/summarisation/lib/python3.10/site-packages (from torch>=1.4.0->accelerate) (10.2.10.91)\n",
      "Requirement already satisfied: nvidia-cusparse-cu11==11.7.4.91 in /home/miboj/miniconda3/envs/summarisation/lib/python3.10/site-packages (from torch>=1.4.0->accelerate) (11.7.4.91)\n",
      "Requirement already satisfied: nvidia-cublas-cu11==11.10.3.66 in /home/miboj/miniconda3/envs/summarisation/lib/python3.10/site-packages (from torch>=1.4.0->accelerate) (11.10.3.66)\n",
      "Requirement already satisfied: nvidia-cufft-cu11==10.9.0.58 in /home/miboj/miniconda3/envs/summarisation/lib/python3.10/site-packages (from torch>=1.4.0->accelerate) (10.9.0.58)\n",
      "Requirement already satisfied: typing-extensions in /home/miboj/miniconda3/envs/summarisation/lib/python3.10/site-packages (from torch>=1.4.0->accelerate) (4.5.0)\n",
      "Requirement already satisfied: nvidia-cuda-nvrtc-cu11==11.7.99 in /home/miboj/miniconda3/envs/summarisation/lib/python3.10/site-packages (from torch>=1.4.0->accelerate) (11.7.99)\n",
      "Requirement already satisfied: setuptools in /home/miboj/miniconda3/envs/summarisation/lib/python3.10/site-packages (from nvidia-cublas-cu11==11.10.3.66->torch>=1.4.0->accelerate) (65.6.3)\n",
      "Requirement already satisfied: wheel in /home/miboj/miniconda3/envs/summarisation/lib/python3.10/site-packages (from nvidia-cublas-cu11==11.10.3.66->torch>=1.4.0->accelerate) (0.38.4)\n",
      "Requirement already satisfied: lit in /home/miboj/miniconda3/envs/summarisation/lib/python3.10/site-packages (from triton==2.0.0->torch>=1.4.0->accelerate) (16.0.1)\n",
      "Requirement already satisfied: cmake in /home/miboj/miniconda3/envs/summarisation/lib/python3.10/site-packages (from triton==2.0.0->torch>=1.4.0->accelerate) (3.26.3)\n",
      "Requirement already satisfied: MarkupSafe>=2.0 in /home/miboj/miniconda3/envs/summarisation/lib/python3.10/site-packages (from jinja2->torch>=1.4.0->accelerate) (2.1.2)\n",
      "Requirement already satisfied: mpmath>=0.19 in /home/miboj/miniconda3/envs/summarisation/lib/python3.10/site-packages (from sympy->torch>=1.4.0->accelerate) (1.3.0)\n",
      "Note: you may need to restart the kernel to use updated packages.\n"
     ]
    }
   ],
   "source": [
    "%pip install accelerate bitsandbytes safetensors"
   ]
  },
  {
   "cell_type": "code",
   "execution_count": 2,
   "metadata": {},
   "outputs": [
    {
     "name": "stderr",
     "output_type": "stream",
     "text": [
      "/home/miboj/miniconda3/envs/summarisation/lib/python3.10/site-packages/tqdm/auto.py:21: TqdmWarning: IProgress not found. Please update jupyter and ipywidgets. See https://ipywidgets.readthedocs.io/en/stable/user_install.html\n",
      "  from .autonotebook import tqdm as notebook_tqdm\n"
     ]
    }
   ],
   "source": [
    "from accelerate import infer_auto_device_map, init_empty_weights\n",
    "from transformers import AutoConfig, AutoModel\n",
    "\n",
    "config = AutoConfig.from_pretrained(\"google/flan-ul2\")\n",
    "\n",
    "with init_empty_weights():\n",
    "  model = AutoModel.from_config(config)\n",
    "\n",
    "device_map = infer_auto_device_map(model)"
   ]
  },
  {
   "cell_type": "code",
   "execution_count": 9,
   "metadata": {},
   "outputs": [
    {
     "data": {
      "text/plain": [
       "{'shared': 0,\n",
       " 'decoder.embed_tokens': 0,\n",
       " 'encoder.embed_tokens': 0,\n",
       " 'encoder.block.0': 0,\n",
       " 'encoder.block.1': 0,\n",
       " 'encoder.block.2': 0,\n",
       " 'encoder.block.3': 0,\n",
       " 'encoder.block.4': 0,\n",
       " 'encoder.block.5': 0,\n",
       " 'encoder.block.6': 0,\n",
       " 'encoder.block.7.layer.0': 0,\n",
       " 'encoder.block.7.layer.1.DenseReluDense.wi_0': 0,\n",
       " 'encoder.block.7.layer.1.DenseReluDense.wi_1': 'cpu',\n",
       " 'encoder.block.7.layer.1.DenseReluDense.wo': 'cpu',\n",
       " 'encoder.block.7.layer.1.DenseReluDense.dropout': 'cpu',\n",
       " 'encoder.block.7.layer.1.DenseReluDense.act': 'cpu',\n",
       " 'encoder.block.7.layer.1.layer_norm': 'cpu',\n",
       " 'encoder.block.7.layer.1.dropout': 'cpu',\n",
       " 'encoder.block.8': 'cpu',\n",
       " 'encoder.block.9': 'cpu',\n",
       " 'encoder.block.10': 'cpu',\n",
       " 'encoder.block.11': 'cpu',\n",
       " 'encoder.block.12': 'cpu',\n",
       " 'encoder.block.13': 'cpu',\n",
       " 'encoder.block.14': 'cpu',\n",
       " 'encoder.block.15': 'cpu',\n",
       " 'encoder.block.16': 'cpu',\n",
       " 'encoder.block.17': 'cpu',\n",
       " 'encoder.block.18': 'cpu',\n",
       " 'encoder.block.19': 'cpu',\n",
       " 'encoder.block.20': 'cpu',\n",
       " 'encoder.block.21': 'cpu',\n",
       " 'encoder.block.22': 'cpu',\n",
       " 'encoder.block.23': 'cpu',\n",
       " 'encoder.block.24': 'cpu',\n",
       " 'encoder.block.25': 'cpu',\n",
       " 'encoder.block.26': 'cpu',\n",
       " 'encoder.block.27': 'cpu',\n",
       " 'encoder.block.28': 'cpu',\n",
       " 'encoder.block.29': 'cpu',\n",
       " 'encoder.block.30': 'cpu',\n",
       " 'encoder.block.31': 'cpu',\n",
       " 'encoder.final_layer_norm': 'cpu',\n",
       " 'encoder.dropout': 'cpu',\n",
       " 'decoder.block.0.layer.0': 'cpu',\n",
       " 'decoder.block.0.layer.1': 'cpu',\n",
       " 'decoder.block.1': 'disk',\n",
       " 'decoder.block.2': 'disk',\n",
       " 'decoder.block.3': 'disk',\n",
       " 'decoder.block.4': 'disk',\n",
       " 'decoder.block.5': 'disk',\n",
       " 'decoder.block.6': 'disk',\n",
       " 'decoder.block.7': 'disk',\n",
       " 'decoder.block.8': 'disk',\n",
       " 'decoder.block.9': 'disk',\n",
       " 'decoder.block.10': 'disk',\n",
       " 'decoder.block.11': 'disk',\n",
       " 'decoder.block.12': 'disk',\n",
       " 'decoder.block.13': 'disk',\n",
       " 'decoder.block.14': 'disk',\n",
       " 'decoder.block.15': 'disk',\n",
       " 'decoder.block.16': 'disk',\n",
       " 'decoder.block.17': 'disk',\n",
       " 'decoder.block.18': 'disk',\n",
       " 'decoder.block.19': 'disk',\n",
       " 'decoder.block.20': 'disk',\n",
       " 'decoder.block.21': 'disk',\n",
       " 'decoder.block.22': 'disk',\n",
       " 'decoder.block.23': 'disk',\n",
       " 'decoder.block.24': 'disk',\n",
       " 'decoder.block.25': 'disk',\n",
       " 'decoder.block.26': 'disk',\n",
       " 'decoder.block.27': 'disk',\n",
       " 'decoder.block.28': 'disk',\n",
       " 'decoder.block.29': 'disk',\n",
       " 'decoder.block.30': 'disk',\n",
       " 'decoder.block.31': 'disk',\n",
       " 'decoder.final_layer_norm': 'disk',\n",
       " 'decoder.dropout': 'disk',\n",
       " 'decoder.block.0.layer.2': 'disk',\n",
       " 'lm_head.weight': 0}"
      ]
     },
     "execution_count": 9,
     "metadata": {},
     "output_type": "execute_result"
    }
   ],
   "source": [
    "device_map[\"lm_head.weight\"] = 'cpu'\n",
    "device_map"
   ]
  },
  {
   "cell_type": "code",
   "execution_count": 10,
   "metadata": {},
   "outputs": [
    {
     "name": "stderr",
     "output_type": "stream",
     "text": [
      "Overriding torch_dtype=None with `torch_dtype=torch.float16` due to requirements of `bitsandbytes` to enable model loading in mixed int8. Either pass torch_dtype=torch.float16 or don't pass this argument at all to remove this warning.\n",
      "Loading checkpoint shards:  12%|█▎        | 1/8 [00:04<00:30,  4.32s/it]"
     ]
    },
    {
     "ename": "",
     "evalue": "",
     "output_type": "error",
     "traceback": [
      "\u001b[1;31mCanceled future for execute_request message before replies were done"
     ]
    },
    {
     "ename": "",
     "evalue": "",
     "output_type": "error",
     "traceback": [
      "\u001b[1;31mThe Kernel crashed while executing code in the the current cell or a previous cell. Please review the code in the cell(s) to identify a possible cause of the failure. Click <a href='https://aka.ms/vscodeJupyterKernelCrash'>here</a> for more info. View Jupyter <a href='command:jupyter.viewOutput'>log</a> for further details."
     ]
    }
   ],
   "source": [
    "# pip install accelerate transformers bitsandbytes\n",
    "from transformers import T5ForConditionalGeneration, AutoTokenizer\n",
    "import torch\n",
    "model = T5ForConditionalGeneration.from_pretrained(\"google/flan-ul2\", device_map=device_map, load_in_8bit=True, llm_int8_enable_fp32_cpu_offload=True, offload_folder=\"./offload\")                                                                 \n",
    "tokenizer = AutoTokenizer.from_pretrained(\"google/flan-ul2\")\n",
    "\n",
    "input_string = \"Answer the following question by reasoning step by step. The cafeteria had 23 apples. If they used 20 for lunch, and bought 6 more, how many apple do they have?\"                                               \n",
    "\n",
    "inputs = tokenizer(input_string, return_tensors=\"pt\").input_ids.to(\"cuda\")\n",
    "outputs = model.generate(inputs, max_length=200)\n",
    "\n",
    "print(tokenizer.decode(outputs[0]))\n",
    "# <pad> They have 23 - 20 = 3 apples left. They have 3 + 6 = 9 apples. Therefore, the answer is 9.</s>\n"
   ]
  },
  {
   "cell_type": "code",
   "execution_count": null,
   "metadata": {},
   "outputs": [],
   "source": []
  }
 ],
 "metadata": {
  "kernelspec": {
   "display_name": "summarisation",
   "language": "python",
   "name": "python3"
  },
  "language_info": {
   "codemirror_mode": {
    "name": "ipython",
    "version": 3
   },
   "file_extension": ".py",
   "mimetype": "text/x-python",
   "name": "python",
   "nbconvert_exporter": "python",
   "pygments_lexer": "ipython3",
   "version": "3.10.10"
  },
  "orig_nbformat": 4
 },
 "nbformat": 4,
 "nbformat_minor": 2
}
