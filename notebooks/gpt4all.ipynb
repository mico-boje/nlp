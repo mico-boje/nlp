{
 "cells": [
  {
   "cell_type": "code",
   "execution_count": 1,
   "metadata": {},
   "outputs": [
    {
     "name": "stdout",
     "output_type": "stream",
     "text": [
      "Note: you may need to restart the kernel to use updated packages.\n"
     ]
    }
   ],
   "source": [
    "%pip install pyllamacpp > /dev/null"
   ]
  },
  {
   "cell_type": "code",
   "execution_count": 2,
   "metadata": {},
   "outputs": [],
   "source": [
    "from langchain import PromptTemplate, LLMChain\n",
    "from langchain.llms import GPT4All\n",
    "from langchain.callbacks.base import CallbackManager\n",
    "from langchain.callbacks.streaming_stdout import StreamingStdOutCallbackHandler"
   ]
  },
  {
   "cell_type": "code",
   "execution_count": 3,
   "metadata": {},
   "outputs": [],
   "source": [
    "template = \"\"\"Your task is to find and mark entities in a sentence or document. \n",
    "The tag to find is: equipment. Where equipment is a type of military or civilian equipment, like tanks, weapons, materials etc. \n",
    "A tag can consist of one or more words. The tags found in a document should be returned in a list like so: Tags = []. \n",
    "Example: Nearly three dozen American-made M1 Abrams tanks that Ukrainian troops will use for training are slated to arrive in Germany by the end of May, a U.S. defense official said Friday. The US are also providing roughly 100 M2 Bradley infantry fighting vehicles and 200 M109A6 self-propelled howitzers.\n",
    "\n",
    "Tags = [M1 Abrams, M2 Bradley, M109A6 self-propelled howitzers].\n",
    "\n",
    "Perform the task on the following text: {text}\n",
    "Answer:\n",
    "\"\"\"\n",
    "\n",
    "prompt = PromptTemplate(template=template, input_variables=[\"text\"])"
   ]
  },
  {
   "cell_type": "code",
   "execution_count": 4,
   "metadata": {},
   "outputs": [],
   "source": [
    "import os\n",
    "model_path = os.path.expanduser('~/.cache/gpt4all/ggml-model-q4_0.bin')"
   ]
  },
  {
   "cell_type": "code",
   "execution_count": 9,
   "metadata": {},
   "outputs": [
    {
     "name": "stderr",
     "output_type": "stream",
     "text": [
      "llama_model_load: loading model from '/home/miboj/.cache/gpt4all/ggml-model-q4_0.bin' - please wait ...\n",
      "llama_model_load: n_vocab = 32001\n",
      "llama_model_load: n_ctx   = 512\n",
      "llama_model_load: n_embd  = 4096\n",
      "llama_model_load: n_mult  = 256\n",
      "llama_model_load: n_head  = 32\n",
      "llama_model_load: n_layer = 32\n",
      "llama_model_load: n_rot   = 128\n",
      "llama_model_load: f16     = 2\n",
      "llama_model_load: n_ff    = 11008\n",
      "llama_model_load: n_parts = 1\n",
      "llama_model_load: type    = 1\n",
      "llama_model_load: ggml map size = 4017.70 MB\n",
      "llama_model_load: ggml ctx size =  81.25 KB\n",
      "llama_model_load: mem required  = 5809.78 MB (+ 2052.00 MB per state)\n",
      "llama_model_load: loading tensors from '/home/miboj/.cache/gpt4all/ggml-model-q4_0.bin'\n",
      "llama_model_load: model size =  4017.27 MB / num tensors = 291\n",
      "llama_init_from_file: kv self size  =  512.00 MB\n"
     ]
    }
   ],
   "source": [
    "# Callbacks support token-wise streaming\n",
    "callback_manager = CallbackManager([StreamingStdOutCallbackHandler()])\n",
    "# Verbose is required to pass to the callback manager\n",
    "llm = GPT4All(model=model_path, callback_manager=callback_manager, verbose=True, n_ctx=512)"
   ]
  },
  {
   "cell_type": "code",
   "execution_count": 6,
   "metadata": {},
   "outputs": [],
   "source": [
    "llm_chain = LLMChain(prompt=prompt, llm=llm)"
   ]
  },
  {
   "cell_type": "code",
   "execution_count": 7,
   "metadata": {},
   "outputs": [],
   "source": [
    "text = \"RAMSTEIN AIR BASE, Germany — Nearly three dozen American-made M1 Abrams tanks that Ukrainian troops will use for training are slated to arrive in Germany by the end of May, a U. S. defense official said Friday. U. S. Defense Secretary Lloyd Austin is expected to formally announce the delivery here at today’s 11th meeting of the Ukraine Defense Contact Group, an international coalition of around 50 countries supporting Ukraine in its 14-month war with Russia. Western officials hope the fleet of advanced battle tanks will be pivotal in efforts to reclaim Russian-occupied territory in eastern and southern Ukraine, though the contribution is unlikely to arrive early enough to make a difference in the country’s anticipated spring counteroffensive. Thirty-one Abrams training tanks will arrive at U. S. Army Garrison Bavaria Grafenwoehr in eastern Germany in the next few weeks, the defense official said. Meanwhile, a separate shipment of 31 M1A1s, refurbished to meet Ukrainian specifications, are expected to reach Ukrainian battlefields by the end of the year. Once the training assets arrive, around 250 Ukrainian troops will take part in a 10-week course to learn how to operate and repair the tanks, the official told reporters. That’s slated to begin by mid-June. After the 10 weeks end, Ukrainian forces could opt to tack on additional training in advanced combat maneuvers. Instruction will come from American soldiers with the 7th Army Training Command, the official said. It’s unclear whether tank training will require the Army to bring additional instructors to Grafenwoehr. The Biden administration initially argued the vehicles would be too difficult for Ukrainian troops to maintain in good condition but reversed course in January. Kyiv had repeatedly pushed for the Abrams, which features a 120mm main gun, advanced targeting and armor-piercing abilities while running at a top speed of around 42 miles per hour. The decision has spurred a growing list of nations to pony up similar systems. Most recently, the Netherlands and Denmark announced Thursday they would jointly donate 14 restored Leopard 2 tanks in early 2024. Ukrainian Defense Minister Oleksii Reznikov said on Twitter during the meeting he had signed a letter of intent to create a maintenance center in Poland to service Leopard 2 tanks. Coalition members have delivered more than 230 tanks and more than 1,550 armored vehicles so far, the defense official said. Speaking to reporters ahead of the talks Friday morning, NATO chief Jens Stoltenberg hailed the arrival of state-of-the-art tanks but cautioned that the coalition must reliably provide the ammunition, fuel and other support Ukraine needs to use that heavy equipment well into the future. The contact group, which periodically gathers in person and virtually to hash out new avenues of support for Ukraine, has collectively provided more than $55 billion in military aid to the embattled country — growing tenfold since the first meeting one year ago, Austin said. “Just in the past few months, we’ve provided the equipment and training to support an additional nine armored brigades for Ukraine,” he said in his opening remarks ahead of the day’s marathon series of meetings. “That has already strengthened Ukraine’s position on the battlefield. ”More than 11,000 Ukrainian soldiers are currently in infantry training or have finished courses hosted by U. S. forces in Germany. Around 2,250 soldiers, or four motorized infantry battalions, are now participating in combined arms lessons at the Grafenwoehr and Hohenfels training areas, said Col. Martin O’Donnell, a spokesperson for the U. S. Army in Europe and Africa. Another 250 or so are currently learning to use other U. S. -supplied weapons as well as leadership training, he said. An additional motorized infantry battalion has arrived in Germany and will begin combined arms training soon, O’Donnell said. That includes instruction on “basic soldier tasks like marksmanship, along with medical training, squad, platoon and company training, and a battalion force-on-force exercise,” he said. Around 8,800 Ukrainians — or seven battalions — have completed training and returned home. Shoring up Ukraine’s air defenses to prevent enemy missile strikes, pouring in millions of rounds of ammunition and bolstering logistics and maintenance support remained the contact group’s top priorities at this week’s meeting. U. S. -made Patriot surface-to-air defensive missiles have arrived in Ukraine, Reznikov announced Wednesday. Patriot weapons can hit aircraft, cruise missiles and short-range ballistic missiles like those Russia has used to destroy residential areas and critical infrastructure. “Our top priority is to quickly build a multi-level air defense/anti-missile defense system,” he added on Twitter Thursday. “Patriots, IRIS-T, NASAMS, and MiG-29 are the most recent, but not the final, steps towards this goal. ”He is now trying to leverage the win to secure promises that Ukraine’s partners will relent on other currently out-of-reach equipment — namely, fighter jets. Ahead of Friday’s meeting, Reznikov acknowledged foreign officials have gradually come around to providing Western weapons previously deemed a poor fit for the small Eastern European nation. “We need NATO-style fighter jets,” he tweeted Thursday, citing the need to counter “barbaric tactics” used by Russian-backed forces. Our top priority is to quickly build a multi-level air defense/anti-missile defense system. Patriots, IRIS-T, NASAMS, and MiG-29 are the most recent, but not the final, steps towards this goal. Given the kremlin's barbaric tactics, we need NATO-style fighter jets. We've heard…— Oleksii Reznikov (@oleksiireznikov) April 20, 2023 Though Poland and Slovakia have donated Soviet-style MiG-29 fighter jets, and the United Kingdom and Poland have offered to train Ukrainian pilots, the idea of supplying F-16 Fighting Falcon jets or A-10C “Warthog” attack planes remains a bridge too far for the Biden administration. Stoltenberg told reporters discussions on whether and how to offer different airframes are still underway. Earlier this year, two Ukrainian pilots visited a military base in Tucson — likely with the Arizona Air National Guard’s 162nd Wing, which flies F-16s — to help the U. S. determine how long it might take to teach them to fly advanced Western aircraft, NBC News first reported in March. The Pentagon has not released any further information on their time in the simulators. But Reznikov isn’t giving up hope. “We’ve heard ‘no, it’s impossible’ a lot,” he wrote. “But I have seen firsthand how the impossible can become possible. ”Ukraine’s Defense Ministry claimed Friday its troops have killed more than 185,000 enemy forces since the Russian invasion began Feb. 24, 2022. U. S. and European defense officials have pegged that number around 200,000 troops, plus another 100,000 or so Ukrainian forces.\"\n",
    "#text = \"The decision has spurred a growing list of nations to pony up similar systems. Most recently, the Netherlands and Denmark announced Thursday they would jointly donate 14 restored Leopard 2 tanks in early 2024. The US will also provide roughly 5000 AK-47 riffels.\""
   ]
  },
  {
   "cell_type": "code",
   "execution_count": 8,
   "metadata": {},
   "outputs": [
    {
     "name": "stderr",
     "output_type": "stream",
     "text": [
      "llama_generate: seed = 1682263736\n",
      "\n",
      "system_info: n_threads = 4 / 32 | AVX = 1 | AVX2 = 1 | AVX512 = 0 | FMA = 1 | NEON = 0 | ARM_FMA = 0 | F16C = 1 | FP16_VA = 0 | WASM_SIMD = 0 | BLAS = 0 | SSE3 = 1 | VSX = 0 | \n",
      "sampling: temp = 0.800000, top_k = 40, top_p = 0.950000, repeat_last_n = 64, repeat_penalty = 1.300000\n",
      "generate: n_ctx = 2048, n_batch = 1, n_predict = 256, n_keep = 0\n",
      "\n",
      "\n"
     ]
    },
    {
     "name": "stdout",
     "output_type": "stream",
     "text": [
      " Your task is to find and mark entities in a sentence or document. \n",
      "The tag to find is: equipment. Where equipment is a type of military or civilian equipment, like tanks, weapons, materials etc. \n",
      "A tag can consist of one or more words. The tags found in a document should be returned in a list like so: Tags = []. \n",
      "Example: Nearly three dozen American-made M1 Abrams tanks that Ukrainian troops will use for training are slated to arrive in Germany by the end of May, a U.S. defense official said Friday. The US are also providing roughly 100 M2 Bradley infantry fighting vehicles and 200 M109A6 self-propelled howitzers.\n",
      "\n",
      "Tags = [M1 Abrams, M2 Bradley, M109A6 self-propelled howitzers].\n",
      "\n",
      "Perform the task on the following text: RAMSTEIN AIR BASE, Germany — Nearly three dozen American-made M1 Abrams tanks that Ukrainian troops will use for training are slated to arrive in Germany by the end of May, a U. S. defense official said Friday. U. S. Defense Secretary Lloyd Austin is expected to formally announce the delivery here at today’s 11th meeting of the Ukraine Defense Contact Group, an international coalition of around 50 countries supporting Ukraine in its 14-month war with Russia. Western officials hope the fleet of advanced battle tanks will be pivotal in efforts to reclaim Russian-occupied territory in eastern and southern Ukraine, though the contribution is unlikely to arrive early enough to make a difference in the country’s anticipated spring counteroffensive. Thirty-one Abrams training tanks will arrive at U. S. Army Garrison Bavaria Grafenwoehr in eastern Germany in the next few weeks, the defense official said. Meanwhile, a separate shipment of 31 M1A1s, refurbished to meet Ukrainian specifications, are expected to reach Ukrainian battlefields by the end of the year. Once the training assets arrive, around 250 Ukrainian troops will take part in a 10-week course to learn how to operate and repair the tanks, the official told reporters. That’s slated to begin by mid-June. After the 10 weeks end, Ukrainian forces could opt to tack on additional training in advanced combat maneuvers. Instruction will come from American soldiers with the 7th Army Training Command, the official said. It’s unclear whether tank training will require the Army to bring additional instructors to Grafenwoehr. The Biden administration initially argued the vehicles would be too difficult for Ukrainian troops to maintain in good condition but reversed course in January. Kyiv had repeatedly pushed for the Abrams, which features a 120mm main gun, advanced targeting and armor-piercing abilities while running at a top speed of around 42 miles per hour. The decision has spurred a growing list of nations to pony up similar systems. Most recently, the Netherlands and Denmark announced Thursday they would jointly donate 14 restored Leopard 2 tanks in early 2024. Ukrainian Defense Minister Oleksii Reznikov said on Twitter during the meeting he had signed a letter of intent to create a maintenance center in Poland to service Leopard 2 tanks. Coalition members have delivered more than 230 tanks and more than 1,550 armored vehicles so far, the defense official said. Speaking to reporters ahead of the talks Friday morning, NATO chief Jens Stoltenberg hailed the arrival of state-of-the-art tanks but cautioned that the coalition must reliably provide the ammunition, fuel and other support Ukraine needs to use that heavy equipment well into the future. The contact group, which periodically gathers in person and virtually to hash out new avenues of support for Ukraine, has collectively provided more than $55 billion in military aid to the embattled country — growing tenfold since the first meeting one year ago, Austin said. “Just in the past few months, we’ve provided the equipment and training to support an additional nine armored brigades for Ukraine,”"
     ]
    },
    {
     "ename": "KeyboardInterrupt",
     "evalue": "",
     "output_type": "error",
     "traceback": [
      "\u001b[0;31m---------------------------------------------------------------------------\u001b[0m",
      "\u001b[0;31mKeyboardInterrupt\u001b[0m                         Traceback (most recent call last)",
      "Cell \u001b[0;32mIn[8], line 1\u001b[0m\n\u001b[0;32m----> 1\u001b[0m answer \u001b[39m=\u001b[39m llm_chain\u001b[39m.\u001b[39;49mrun(text)\n",
      "File \u001b[0;32m~/miniconda3/envs/summarisation/lib/python3.10/site-packages/langchain/chains/base.py:213\u001b[0m, in \u001b[0;36mChain.run\u001b[0;34m(self, *args, **kwargs)\u001b[0m\n\u001b[1;32m    211\u001b[0m     \u001b[39mif\u001b[39;00m \u001b[39mlen\u001b[39m(args) \u001b[39m!=\u001b[39m \u001b[39m1\u001b[39m:\n\u001b[1;32m    212\u001b[0m         \u001b[39mraise\u001b[39;00m \u001b[39mValueError\u001b[39;00m(\u001b[39m\"\u001b[39m\u001b[39m`run` supports only one positional argument.\u001b[39m\u001b[39m\"\u001b[39m)\n\u001b[0;32m--> 213\u001b[0m     \u001b[39mreturn\u001b[39;00m \u001b[39mself\u001b[39;49m(args[\u001b[39m0\u001b[39;49m])[\u001b[39mself\u001b[39m\u001b[39m.\u001b[39moutput_keys[\u001b[39m0\u001b[39m]]\n\u001b[1;32m    215\u001b[0m \u001b[39mif\u001b[39;00m kwargs \u001b[39mand\u001b[39;00m \u001b[39mnot\u001b[39;00m args:\n\u001b[1;32m    216\u001b[0m     \u001b[39mreturn\u001b[39;00m \u001b[39mself\u001b[39m(kwargs)[\u001b[39mself\u001b[39m\u001b[39m.\u001b[39moutput_keys[\u001b[39m0\u001b[39m]]\n",
      "File \u001b[0;32m~/miniconda3/envs/summarisation/lib/python3.10/site-packages/langchain/chains/base.py:116\u001b[0m, in \u001b[0;36mChain.__call__\u001b[0;34m(self, inputs, return_only_outputs)\u001b[0m\n\u001b[1;32m    114\u001b[0m \u001b[39mexcept\u001b[39;00m (\u001b[39mKeyboardInterrupt\u001b[39;00m, \u001b[39mException\u001b[39;00m) \u001b[39mas\u001b[39;00m e:\n\u001b[1;32m    115\u001b[0m     \u001b[39mself\u001b[39m\u001b[39m.\u001b[39mcallback_manager\u001b[39m.\u001b[39mon_chain_error(e, verbose\u001b[39m=\u001b[39m\u001b[39mself\u001b[39m\u001b[39m.\u001b[39mverbose)\n\u001b[0;32m--> 116\u001b[0m     \u001b[39mraise\u001b[39;00m e\n\u001b[1;32m    117\u001b[0m \u001b[39mself\u001b[39m\u001b[39m.\u001b[39mcallback_manager\u001b[39m.\u001b[39mon_chain_end(outputs, verbose\u001b[39m=\u001b[39m\u001b[39mself\u001b[39m\u001b[39m.\u001b[39mverbose)\n\u001b[1;32m    118\u001b[0m \u001b[39mreturn\u001b[39;00m \u001b[39mself\u001b[39m\u001b[39m.\u001b[39mprep_outputs(inputs, outputs, return_only_outputs)\n",
      "File \u001b[0;32m~/miniconda3/envs/summarisation/lib/python3.10/site-packages/langchain/chains/base.py:113\u001b[0m, in \u001b[0;36mChain.__call__\u001b[0;34m(self, inputs, return_only_outputs)\u001b[0m\n\u001b[1;32m    107\u001b[0m \u001b[39mself\u001b[39m\u001b[39m.\u001b[39mcallback_manager\u001b[39m.\u001b[39mon_chain_start(\n\u001b[1;32m    108\u001b[0m     {\u001b[39m\"\u001b[39m\u001b[39mname\u001b[39m\u001b[39m\"\u001b[39m: \u001b[39mself\u001b[39m\u001b[39m.\u001b[39m\u001b[39m__class__\u001b[39m\u001b[39m.\u001b[39m\u001b[39m__name__\u001b[39m},\n\u001b[1;32m    109\u001b[0m     inputs,\n\u001b[1;32m    110\u001b[0m     verbose\u001b[39m=\u001b[39m\u001b[39mself\u001b[39m\u001b[39m.\u001b[39mverbose,\n\u001b[1;32m    111\u001b[0m )\n\u001b[1;32m    112\u001b[0m \u001b[39mtry\u001b[39;00m:\n\u001b[0;32m--> 113\u001b[0m     outputs \u001b[39m=\u001b[39m \u001b[39mself\u001b[39;49m\u001b[39m.\u001b[39;49m_call(inputs)\n\u001b[1;32m    114\u001b[0m \u001b[39mexcept\u001b[39;00m (\u001b[39mKeyboardInterrupt\u001b[39;00m, \u001b[39mException\u001b[39;00m) \u001b[39mas\u001b[39;00m e:\n\u001b[1;32m    115\u001b[0m     \u001b[39mself\u001b[39m\u001b[39m.\u001b[39mcallback_manager\u001b[39m.\u001b[39mon_chain_error(e, verbose\u001b[39m=\u001b[39m\u001b[39mself\u001b[39m\u001b[39m.\u001b[39mverbose)\n",
      "File \u001b[0;32m~/miniconda3/envs/summarisation/lib/python3.10/site-packages/langchain/chains/llm.py:57\u001b[0m, in \u001b[0;36mLLMChain._call\u001b[0;34m(self, inputs)\u001b[0m\n\u001b[1;32m     56\u001b[0m \u001b[39mdef\u001b[39;00m \u001b[39m_call\u001b[39m(\u001b[39mself\u001b[39m, inputs: Dict[\u001b[39mstr\u001b[39m, Any]) \u001b[39m-\u001b[39m\u001b[39m>\u001b[39m Dict[\u001b[39mstr\u001b[39m, \u001b[39mstr\u001b[39m]:\n\u001b[0;32m---> 57\u001b[0m     \u001b[39mreturn\u001b[39;00m \u001b[39mself\u001b[39;49m\u001b[39m.\u001b[39;49mapply([inputs])[\u001b[39m0\u001b[39m]\n",
      "File \u001b[0;32m~/miniconda3/envs/summarisation/lib/python3.10/site-packages/langchain/chains/llm.py:118\u001b[0m, in \u001b[0;36mLLMChain.apply\u001b[0;34m(self, input_list)\u001b[0m\n\u001b[1;32m    116\u001b[0m \u001b[39mdef\u001b[39;00m \u001b[39mapply\u001b[39m(\u001b[39mself\u001b[39m, input_list: List[Dict[\u001b[39mstr\u001b[39m, Any]]) \u001b[39m-\u001b[39m\u001b[39m>\u001b[39m List[Dict[\u001b[39mstr\u001b[39m, \u001b[39mstr\u001b[39m]]:\n\u001b[1;32m    117\u001b[0m \u001b[39m    \u001b[39m\u001b[39m\"\"\"Utilize the LLM generate method for speed gains.\"\"\"\u001b[39;00m\n\u001b[0;32m--> 118\u001b[0m     response \u001b[39m=\u001b[39m \u001b[39mself\u001b[39;49m\u001b[39m.\u001b[39;49mgenerate(input_list)\n\u001b[1;32m    119\u001b[0m     \u001b[39mreturn\u001b[39;00m \u001b[39mself\u001b[39m\u001b[39m.\u001b[39mcreate_outputs(response)\n",
      "File \u001b[0;32m~/miniconda3/envs/summarisation/lib/python3.10/site-packages/langchain/chains/llm.py:62\u001b[0m, in \u001b[0;36mLLMChain.generate\u001b[0;34m(self, input_list)\u001b[0m\n\u001b[1;32m     60\u001b[0m \u001b[39m\u001b[39m\u001b[39m\"\"\"Generate LLM result from inputs.\"\"\"\u001b[39;00m\n\u001b[1;32m     61\u001b[0m prompts, stop \u001b[39m=\u001b[39m \u001b[39mself\u001b[39m\u001b[39m.\u001b[39mprep_prompts(input_list)\n\u001b[0;32m---> 62\u001b[0m \u001b[39mreturn\u001b[39;00m \u001b[39mself\u001b[39;49m\u001b[39m.\u001b[39;49mllm\u001b[39m.\u001b[39;49mgenerate_prompt(prompts, stop)\n",
      "File \u001b[0;32m~/miniconda3/envs/summarisation/lib/python3.10/site-packages/langchain/llms/base.py:107\u001b[0m, in \u001b[0;36mBaseLLM.generate_prompt\u001b[0;34m(self, prompts, stop)\u001b[0m\n\u001b[1;32m    103\u001b[0m \u001b[39mdef\u001b[39;00m \u001b[39mgenerate_prompt\u001b[39m(\n\u001b[1;32m    104\u001b[0m     \u001b[39mself\u001b[39m, prompts: List[PromptValue], stop: Optional[List[\u001b[39mstr\u001b[39m]] \u001b[39m=\u001b[39m \u001b[39mNone\u001b[39;00m\n\u001b[1;32m    105\u001b[0m ) \u001b[39m-\u001b[39m\u001b[39m>\u001b[39m LLMResult:\n\u001b[1;32m    106\u001b[0m     prompt_strings \u001b[39m=\u001b[39m [p\u001b[39m.\u001b[39mto_string() \u001b[39mfor\u001b[39;00m p \u001b[39min\u001b[39;00m prompts]\n\u001b[0;32m--> 107\u001b[0m     \u001b[39mreturn\u001b[39;00m \u001b[39mself\u001b[39;49m\u001b[39m.\u001b[39;49mgenerate(prompt_strings, stop\u001b[39m=\u001b[39;49mstop)\n",
      "File \u001b[0;32m~/miniconda3/envs/summarisation/lib/python3.10/site-packages/langchain/llms/base.py:140\u001b[0m, in \u001b[0;36mBaseLLM.generate\u001b[0;34m(self, prompts, stop)\u001b[0m\n\u001b[1;32m    138\u001b[0m \u001b[39mexcept\u001b[39;00m (\u001b[39mKeyboardInterrupt\u001b[39;00m, \u001b[39mException\u001b[39;00m) \u001b[39mas\u001b[39;00m e:\n\u001b[1;32m    139\u001b[0m     \u001b[39mself\u001b[39m\u001b[39m.\u001b[39mcallback_manager\u001b[39m.\u001b[39mon_llm_error(e, verbose\u001b[39m=\u001b[39m\u001b[39mself\u001b[39m\u001b[39m.\u001b[39mverbose)\n\u001b[0;32m--> 140\u001b[0m     \u001b[39mraise\u001b[39;00m e\n\u001b[1;32m    141\u001b[0m \u001b[39mself\u001b[39m\u001b[39m.\u001b[39mcallback_manager\u001b[39m.\u001b[39mon_llm_end(output, verbose\u001b[39m=\u001b[39m\u001b[39mself\u001b[39m\u001b[39m.\u001b[39mverbose)\n\u001b[1;32m    142\u001b[0m \u001b[39mreturn\u001b[39;00m output\n",
      "File \u001b[0;32m~/miniconda3/envs/summarisation/lib/python3.10/site-packages/langchain/llms/base.py:137\u001b[0m, in \u001b[0;36mBaseLLM.generate\u001b[0;34m(self, prompts, stop)\u001b[0m\n\u001b[1;32m    133\u001b[0m \u001b[39mself\u001b[39m\u001b[39m.\u001b[39mcallback_manager\u001b[39m.\u001b[39mon_llm_start(\n\u001b[1;32m    134\u001b[0m     {\u001b[39m\"\u001b[39m\u001b[39mname\u001b[39m\u001b[39m\"\u001b[39m: \u001b[39mself\u001b[39m\u001b[39m.\u001b[39m\u001b[39m__class__\u001b[39m\u001b[39m.\u001b[39m\u001b[39m__name__\u001b[39m}, prompts, verbose\u001b[39m=\u001b[39m\u001b[39mself\u001b[39m\u001b[39m.\u001b[39mverbose\n\u001b[1;32m    135\u001b[0m )\n\u001b[1;32m    136\u001b[0m \u001b[39mtry\u001b[39;00m:\n\u001b[0;32m--> 137\u001b[0m     output \u001b[39m=\u001b[39m \u001b[39mself\u001b[39;49m\u001b[39m.\u001b[39;49m_generate(prompts, stop\u001b[39m=\u001b[39;49mstop)\n\u001b[1;32m    138\u001b[0m \u001b[39mexcept\u001b[39;00m (\u001b[39mKeyboardInterrupt\u001b[39;00m, \u001b[39mException\u001b[39;00m) \u001b[39mas\u001b[39;00m e:\n\u001b[1;32m    139\u001b[0m     \u001b[39mself\u001b[39m\u001b[39m.\u001b[39mcallback_manager\u001b[39m.\u001b[39mon_llm_error(e, verbose\u001b[39m=\u001b[39m\u001b[39mself\u001b[39m\u001b[39m.\u001b[39mverbose)\n",
      "File \u001b[0;32m~/miniconda3/envs/summarisation/lib/python3.10/site-packages/langchain/llms/base.py:324\u001b[0m, in \u001b[0;36mLLM._generate\u001b[0;34m(self, prompts, stop)\u001b[0m\n\u001b[1;32m    322\u001b[0m generations \u001b[39m=\u001b[39m []\n\u001b[1;32m    323\u001b[0m \u001b[39mfor\u001b[39;00m prompt \u001b[39min\u001b[39;00m prompts:\n\u001b[0;32m--> 324\u001b[0m     text \u001b[39m=\u001b[39m \u001b[39mself\u001b[39;49m\u001b[39m.\u001b[39;49m_call(prompt, stop\u001b[39m=\u001b[39;49mstop)\n\u001b[1;32m    325\u001b[0m     generations\u001b[39m.\u001b[39mappend([Generation(text\u001b[39m=\u001b[39mtext)])\n\u001b[1;32m    326\u001b[0m \u001b[39mreturn\u001b[39;00m LLMResult(generations\u001b[39m=\u001b[39mgenerations)\n",
      "File \u001b[0;32m~/miniconda3/envs/summarisation/lib/python3.10/site-packages/langchain/llms/gpt4all.py:181\u001b[0m, in \u001b[0;36mGPT4All._call\u001b[0;34m(self, prompt, stop)\u001b[0m\n\u001b[1;32m    163\u001b[0m \u001b[39m\u001b[39m\u001b[39mr\u001b[39m\u001b[39m\"\"\"Call out to GPT4All's generate method.\u001b[39;00m\n\u001b[1;32m    164\u001b[0m \n\u001b[1;32m    165\u001b[0m \u001b[39mArgs:\u001b[39;00m\n\u001b[0;32m   (...)\u001b[0m\n\u001b[1;32m    176\u001b[0m \u001b[39m        response = model(prompt, n_predict=55)\u001b[39;00m\n\u001b[1;32m    177\u001b[0m \u001b[39m\"\"\"\u001b[39;00m\n\u001b[1;32m    178\u001b[0m text_callback \u001b[39m=\u001b[39m partial(\n\u001b[1;32m    179\u001b[0m     \u001b[39mself\u001b[39m\u001b[39m.\u001b[39mcallback_manager\u001b[39m.\u001b[39mon_llm_new_token, verbose\u001b[39m=\u001b[39m\u001b[39mself\u001b[39m\u001b[39m.\u001b[39mverbose\n\u001b[1;32m    180\u001b[0m )\n\u001b[0;32m--> 181\u001b[0m text \u001b[39m=\u001b[39m \u001b[39mself\u001b[39;49m\u001b[39m.\u001b[39;49mclient\u001b[39m.\u001b[39;49mgenerate(\n\u001b[1;32m    182\u001b[0m     prompt,\n\u001b[1;32m    183\u001b[0m     new_text_callback\u001b[39m=\u001b[39;49mtext_callback,\n\u001b[1;32m    184\u001b[0m     \u001b[39m*\u001b[39;49m\u001b[39m*\u001b[39;49m\u001b[39mself\u001b[39;49m\u001b[39m.\u001b[39;49m_default_params,\n\u001b[1;32m    185\u001b[0m )\n\u001b[1;32m    186\u001b[0m \u001b[39mif\u001b[39;00m stop \u001b[39mis\u001b[39;00m \u001b[39mnot\u001b[39;00m \u001b[39mNone\u001b[39;00m:\n\u001b[1;32m    187\u001b[0m     text \u001b[39m=\u001b[39m enforce_stop_tokens(text, stop)\n",
      "File \u001b[0;32m~/miniconda3/envs/summarisation/lib/python3.10/site-packages/pyllamacpp/model.py:120\u001b[0m, in \u001b[0;36mModel.generate\u001b[0;34m(self, prompt, n_predict, new_text_callback, grab_text_callback, verbose, **gpt_params)\u001b[0m\n\u001b[1;32m    117\u001b[0m Model\u001b[39m.\u001b[39m_grab_text_callback \u001b[39m=\u001b[39m grab_text_callback\n\u001b[1;32m    119\u001b[0m \u001b[39m# run the prediction\u001b[39;00m\n\u001b[0;32m--> 120\u001b[0m pp\u001b[39m.\u001b[39;49mllama_generate(\u001b[39mself\u001b[39;49m\u001b[39m.\u001b[39;49m_ctx, \u001b[39mself\u001b[39;49m\u001b[39m.\u001b[39;49mgpt_params, \u001b[39mself\u001b[39;49m\u001b[39m.\u001b[39;49m_call_new_text_callback, \u001b[39mself\u001b[39;49m\u001b[39m.\u001b[39;49m_call_grab_text_callback, verbose)\n\u001b[1;32m    121\u001b[0m \u001b[39mreturn\u001b[39;00m \u001b[39mself\u001b[39m\u001b[39m.\u001b[39mres\n",
      "File \u001b[0;32m~/miniconda3/envs/summarisation/lib/python3.10/site-packages/pyllamacpp/model.py:78\u001b[0m, in \u001b[0;36mModel._call_new_text_callback\u001b[0;34m(self, text)\u001b[0m\n\u001b[1;32m     75\u001b[0m     \u001b[39mfor\u001b[39;00m param \u001b[39min\u001b[39;00m kwargs:\n\u001b[1;32m     76\u001b[0m         \u001b[39msetattr\u001b[39m(params, param, kwargs[param])\n\u001b[0;32m---> 78\u001b[0m \u001b[39mdef\u001b[39;00m \u001b[39m_call_new_text_callback\u001b[39m(\u001b[39mself\u001b[39m, text) \u001b[39m-\u001b[39m\u001b[39m>\u001b[39m \u001b[39mNone\u001b[39;00m:\n\u001b[1;32m     79\u001b[0m \u001b[39m    \u001b[39m\u001b[39m\"\"\"\u001b[39;00m\n\u001b[1;32m     80\u001b[0m \u001b[39m    Internal new_segment_callback, it just calls the user's callback with the `Segment` object\u001b[39;00m\n\u001b[1;32m     81\u001b[0m \u001b[39m    :return: None\u001b[39;00m\n\u001b[1;32m     82\u001b[0m \u001b[39m    \"\"\"\u001b[39;00m\n\u001b[1;32m     83\u001b[0m     \u001b[39mif\u001b[39;00m Model\u001b[39m.\u001b[39m_new_text_callback \u001b[39mis\u001b[39;00m \u001b[39mnot\u001b[39;00m \u001b[39mNone\u001b[39;00m:\n",
      "\u001b[0;31mKeyboardInterrupt\u001b[0m: "
     ]
    }
   ],
   "source": [
    "answer = llm_chain.run(text)"
   ]
  },
  {
   "cell_type": "code",
   "execution_count": null,
   "metadata": {},
   "outputs": [
    {
     "data": {
      "text/plain": [
       "' Your task is to find a mark entities in a sentence of document. \\nThe tag to find is: equipment. Where equipment is a type of military or civilian equipment, like tanks, weapons, materials etc. \\nA tag can consist of one or more words. The tags found in a document should be returned in a list like so: Tags = []. \\nExample: Nearly three dozen American-made M1 Abrams tanks that Ukrainian troops will use for training are slated to arrive in Germany by the end of May, a U.S. defense official said Friday. The US are also providing roughly 100 M2 Bradley infantry fighting vehicles and 200 M109A6 self-propelled howitzers.\\n\\nTags = [M1 Abrams, M2 Bradley, M109A6 self-propelled howitzers].\\n\\nPerform the task on the following text: The decision has spurred a growing list of nations to pony up similar systems. Most recently, the Netherlands and Denmark announced Thursday they would jointly donate 14 restored Leopard 2 tanks in early 2024. The US will also provide roughly 5000 AK-47 riffels.\\nAnswer:\\nTags = [Leopard 2, AK-47].'"
      ]
     },
     "execution_count": 29,
     "metadata": {},
     "output_type": "execute_result"
    }
   ],
   "source": [
    "answer"
   ]
  },
  {
   "cell_type": "code",
   "execution_count": null,
   "metadata": {},
   "outputs": [],
   "source": [
    "import re\n",
    "\n",
    "def extract_tags(text):\n",
    "    # Find Answer: and only take the text after that\n",
    "    tags_str = re.search(r'Answer:\\s*(.*)', text).group(1)\n",
    "    # Remove the brackets from the tags string\n",
    "    tags_str = tags_str.replace('[', '').replace(']', '')\n",
    "    # Remove Tags = from the tags string\n",
    "    tags_str = tags_str.replace('Tags = ', '')\n",
    "    # Split the tags string into individual tags\n",
    "    tags_list = tags_str.split(', ')\n",
    "    # Strip any whitespace from the individual tags\n",
    "    tags_list = [tag.strip() for tag in tags_list]\n",
    "    return tags_list\n",
    "\n"
   ]
  },
  {
   "cell_type": "code",
   "execution_count": null,
   "metadata": {},
   "outputs": [
    {
     "data": {
      "text/plain": [
       "['Leopard 2', 'AK-47.']"
      ]
     },
     "execution_count": 49,
     "metadata": {},
     "output_type": "execute_result"
    }
   ],
   "source": [
    "extract_tags(answer)"
   ]
  },
  {
   "cell_type": "code",
   "execution_count": null,
   "metadata": {},
   "outputs": [],
   "source": []
  }
 ],
 "metadata": {
  "kernelspec": {
   "display_name": "summarisation",
   "language": "python",
   "name": "python3"
  },
  "language_info": {
   "codemirror_mode": {
    "name": "ipython",
    "version": 3
   },
   "file_extension": ".py",
   "mimetype": "text/x-python",
   "name": "python",
   "nbconvert_exporter": "python",
   "pygments_lexer": "ipython3",
   "version": "3.10.10"
  },
  "orig_nbformat": 4
 },
 "nbformat": 4,
 "nbformat_minor": 2
}
