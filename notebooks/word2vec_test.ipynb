{
 "cells": [
  {
   "cell_type": "code",
   "execution_count": 22,
   "metadata": {},
   "outputs": [],
   "source": [
    "import os\n",
    "\n",
    "from msc.utils.utility import get_root_path\n",
    "from gensim.models import Word2Vec"
   ]
  },
  {
   "cell_type": "code",
   "execution_count": 23,
   "metadata": {},
   "outputs": [],
   "source": [
    "model_path = os.path.join(get_root_path(), 'data', 'models', 'word2vec', 'word2vec.model')\n",
    "model = Word2Vec.load(model_path)"
   ]
  },
  {
   "cell_type": "code",
   "execution_count": 25,
   "metadata": {},
   "outputs": [
    {
     "name": "stdout",
     "output_type": "stream",
     "text": [
      "100\n"
     ]
    },
    {
     "data": {
      "text/plain": [
       "[('normann', 0.3773583173751831),\n",
       " ('ronaldo', 0.3748556077480316),\n",
       " ('hovedforhand', 0.36870381236076355),\n",
       " ('glasurudtryk', 0.36868977546691895),\n",
       " ('advisory', 0.3681727945804596),\n",
       " ('upon', 0.3534162938594818),\n",
       " ('cylindrical', 0.34768733382225037),\n",
       " ('fungere', 0.34220850467681885),\n",
       " ('betonskrue', 0.3377804756164551),\n",
       " ('havnen', 0.33391326665878296)]"
      ]
     },
     "execution_count": 25,
     "metadata": {},
     "output_type": "execute_result"
    }
   ],
   "source": [
    "vector = model.wv['corona']\n",
    "print(len(vector))\n",
    "model.wv.most_similar('bank', topn=10)"
   ]
  },
  {
   "cell_type": "code",
   "execution_count": null,
   "metadata": {},
   "outputs": [],
   "source": []
  }
 ],
 "metadata": {
  "kernelspec": {
   "display_name": "summarisation",
   "language": "python",
   "name": "python3"
  },
  "language_info": {
   "codemirror_mode": {
    "name": "ipython",
    "version": 3
   },
   "file_extension": ".py",
   "mimetype": "text/x-python",
   "name": "python",
   "nbconvert_exporter": "python",
   "pygments_lexer": "ipython3",
   "version": "3.10.10"
  },
  "orig_nbformat": 4
 },
 "nbformat": 4,
 "nbformat_minor": 2
}
